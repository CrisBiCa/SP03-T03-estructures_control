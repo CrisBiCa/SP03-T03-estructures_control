{
 "cells": [
  {
   "cell_type": "markdown",
   "id": "9e4575e2",
   "metadata": {},
   "source": [
    "## S03 T03: Estructura de control\n",
    "\n",
    "**Descripció**\n",
    "Comencem a familiaritzar-nos amb les estructures de control de Python\n",
    "\n",
    "### Nivell 1\n",
    "  - **Exercici 1**  \n",
    "L'exercici consisteix a crear un programa que et classifiqui una variable numèrica en funció de l’escala suspès/Aprovat/Notable/Excel·lent.  \n",
    "\n",
    "- **Exercici 2**  \n",
    "Utilitzant el següent tutorial Programiz: Python Input, Output and Import crea un programa que et pregunti dos números. T’ha de mostrar un missatge dient si el primer és més gran, el segon és més gran o són iguals.\n",
    "\n",
    "- **Exercici 3**  \n",
    "Crea un programa que et pregunti el teu nom, i et demani un número. Si el número és 0, hauria de mostrar un missatge d’error. En cas contrari, hauria de mostrar el nom repetit tants cops com indiqui el número. Per exemple, “Joan Joan Joan”.\n",
    "\n",
    "- **Exercici 4**  \n",
    "Crea un programa que donada una llista qualsevol, et digui si es simètrica o no. Si ho és, que et digui quants elements té.\n",
    "\n",
    "- **Exercici 5**  \n",
    "Crea un programa que donada una llista, et digui quants números coincideixen amb la seva posició. Per exemple \\[3,4,2,0,2,3,6\\] el 2 i el 6 coincideixen.\n",
    "\n",
    "\n",
    "### Nivell 1\n",
    "  - **Exercici 1**  \n",
    "L'exercici consisteix a crear un programa que et classifiqui una variable numèrica en funció de l’escala suspès/Aprovat/Notable/Excel·lent. \n",
    "\n",
    "1- Creat the numerical scale:\n",
    "0 - 4 suspès, 5 -6 Aprovat, 7-8 Notable, 9-10 Excel·lent  \n",
    "2- Creat a conditional that allows this depending on the numerical value"
   ]
  },
  {
   "cell_type": "code",
   "execution_count": 32,
   "id": "1506f9fc",
   "metadata": {
    "scrolled": true
   },
   "outputs": [
    {
     "name": "stdout",
     "output_type": "stream",
     "text": [
      "Donam la nota de l alumne:5\n",
      "<class 'int'>\n",
      "Suspès\n"
     ]
    }
   ],
   "source": [
    "#define a function to do the classification\n",
    "def notaEsrita(nota):\n",
    "    if nota >= 0 & nota < 5:\n",
    "        print(\"L'alumnes està suspès\")\n",
    "        notaEscrita = \"Suspès\"\n",
    "    elif nota >= 5 & nota < 7:\n",
    "        print(\"L'alumnes està aprovat\")\n",
    "        notaEscrita = \"Aprovat\"\n",
    "    elif nota >= 7 & nota < 9:\n",
    "        print(\"L'alumnes està notable\")\n",
    "        notaEscrita = \"Notable\"\n",
    "    elif nota >= 9 & nota <= 10:\n",
    "        print(\"L'alumnes està excel·lent\")\n",
    "        notaEscrita = \"Excel·lent\"\n",
    "    else:\n",
    "        print(\"La nota no s'ha introduit correctament\")\n",
    "    return notaEscrita\n",
    "\n",
    "\n",
    "nota = int(input(\"Donam la nota de l alumne:\"))\n",
    "#input function allways returns a string, we need to cast it to a int\n",
    "\n",
    "#Call the function\n",
    "print(notaEscrita)"
   ]
  },
  {
   "cell_type": "markdown",
   "id": "16253206",
   "metadata": {},
   "source": [
    "- **Exercici 2**  \n",
    "Utilitzant el següent tutorial Programiz: Python Input, Output and Import crea un programa que et pregunti dos números. T’ha de mostrar un missatge dient si el primer és més gran, el segon és més gran o són iguals.\n",
    "\n",
    "  1- I define a function taking 2 int parameters and printing the message according to the case "
   ]
  },
  {
   "cell_type": "code",
   "execution_count": 45,
   "id": "7fce37e8",
   "metadata": {},
   "outputs": [
    {
     "name": "stdout",
     "output_type": "stream",
     "text": [
      "Enter a two numbers spearated by a space: 8 8\n",
      "Number 1, 8, is equal to number 2, 8\n"
     ]
    }
   ],
   "source": [
    "#define the function\n",
    "def numComparison (num1, num2):\n",
    "    if num1 > num2:\n",
    "        print(\"Number 1, {0}, is higher than number 2, {1}\".format(num1, num2))\n",
    "    elif num1 < num2:\n",
    "        print(\"Number 1, {}, is smaller than number 2, {}\".format(num1, num2))\n",
    "    elif num1 == num2:\n",
    "        print(\"Number 1, {}, is equal to number 2, {}\".format(num1, num2))\n",
    "    \n",
    "        \n",
    "# taking two inputs at a time we use the function split\n",
    "num1, num2 = input(\"Enter a two numbers spearated by a space: \").split()\n",
    "#call the function\n",
    "\n",
    "numComparison(num1,num2)\n",
    "\n"
   ]
  },
  {
   "cell_type": "markdown",
   "id": "4d3c071f",
   "metadata": {},
   "source": [
    "- **Exercici 3**  \n",
    "Crea un programa que et pregunti el teu nom, i et demani un número. Si el número és 0, hauria de mostrar un missatge d’error. En cas contrari, hauria de mostrar el nom repetit tants cops com indiqui el número. Per exemple, “Joan Joan Joan”.\n"
   ]
  },
  {
   "cell_type": "code",
   "execution_count": 54,
   "id": "41547c0c",
   "metadata": {},
   "outputs": [
    {
     "name": "stdout",
     "output_type": "stream",
     "text": [
      "Give me your name:cris\n",
      "and give me a number:5\n",
      "cris cris cris cris cris \n"
     ]
    }
   ],
   "source": [
    "name = input(\"Give me your name:\")\n",
    "num = int(input(\"and give me a number:\"))\n",
    "\n",
    "if num == 0:\n",
    "    print(\"Pease give me a number different than 0\")\n",
    "else:\n",
    "    print(num*(name + \" \"))"
   ]
  },
  {
   "cell_type": "markdown",
   "id": "d1d552bc",
   "metadata": {},
   "source": [
    "- **Exercici 4**  \n",
    "Crea un programa que donada una llista qualsevol, et digui si es simètrica o no. Si ho és, que et digui quants elements té.\n",
    "\n",
    "   Per ser simètrica, ha de ser una matriu quadrada (numero de files == numero columnes), i tots els elements de la seva transposada han de ser iguals\n",
    "   "
   ]
  },
  {
   "cell_type": "code",
   "execution_count": 95,
   "id": "ab158bd9",
   "metadata": {},
   "outputs": [],
   "source": [
    "#import Numpy\n",
    "import numpy as np\n",
    "\n",
    "#define a function to look if a matrix is simetrical\n",
    "def isSimetrical(array):\n",
    "    transposeArray = array.T\n",
    "    if np.shape(array)[0] == np.shape(transposeArray)[0] & np.shape(array)[1] == np.shape(transposeArray)[1]:\n",
    "        for i in range(np.shape(array)[0]): #checking rows\n",
    "            for j in range(np.shape(array)[1]): #checking columns\n",
    "                if array[i][j] != transposeArray[i][j]: #checking if elements of the matrix are equal\n",
    "                    return False\n",
    "        return True   \n",
    "    else:\n",
    "        print(\"The array is not a square matrix\")\n",
    "        return False\n"
   ]
  },
  {
   "cell_type": "code",
   "execution_count": 97,
   "id": "9da194d3",
   "metadata": {},
   "outputs": [
    {
     "name": "stdout",
     "output_type": "stream",
     "text": [
      "[[10  4]\n",
      " [ 1  4]]\n",
      "The array is NOT simetrical\n"
     ]
    }
   ],
   "source": [
    "llistaQualsevol = np.random.randint(1,11, (2,2)) #matrix 2 by 2 with random integers between 1-10\n",
    "#llistaQualsevol = np.ones((4, 4))\n",
    "#llistaQualsevol = np.identity(5)\n",
    "\n",
    "print(llistaQualsevol)\n",
    "\n",
    "if isSimetrical(llistaQualsevol) == False:\n",
    "    print(\"The array is NOT simetrical\")\n",
    "else:\n",
    "    print(\"The array IS simetrical\")\n"
   ]
  },
  {
   "cell_type": "markdown",
   "id": "cf86b69d",
   "metadata": {},
   "source": [
    "- **Exercici 5**  \n",
    "Crea un programa que donada una llista, et digui quants números coincideixen amb la seva posició. Per exemple \\[3,4,2,0,2,3,6\\] el 2 i el 6 coincideixen."
   ]
  },
  {
   "cell_type": "code",
   "execution_count": 121,
   "id": "973a5a3a",
   "metadata": {},
   "outputs": [
    {
     "name": "stdout",
     "output_type": "stream",
     "text": [
      "[2, 5, 1, 4, 0, 9, 6, 8, 7, 10]\n",
      "There are 1 coincident numbers with their index that are: \n",
      "6\n"
     ]
    }
   ],
   "source": [
    "import random\n",
    "randList = random.sample(range(0,11),10)#generating random list of 10 elements between 0 and 10\n",
    "#randList = [0,2,3,3,5,6]\n",
    "print(randList)\n",
    "\n",
    "#Inicializng variables\n",
    "count = 0\n",
    "coincNumIndex = []\n",
    "\n",
    "for i in range(len(randList)):#checking the elements of the list\n",
    "    if randList[i] == i: #if it is coincident adding to a counter \n",
    "        count += 1\n",
    "        coincNumIndex.append(randList[i]) #and adding to a list the number\n",
    "\n",
    "#printing the results\n",
    "if len(coincNumIndex) != 0: #if the new list is not empty printing the numbers\n",
    "    print(\"There are {} coincident numbers with their index that are: \".format(count))\n",
    "    \n",
    "    for i in range(len(coincNumIndex)): #loop to print the numbers of the list\n",
    "        print(coincNumIndex[i])\n",
    "else:\n",
    "    print(\"No coincident numbers with its index in the list\") \n",
    "        \n",
    "\n"
   ]
  },
  {
   "cell_type": "code",
   "execution_count": null,
   "id": "1d98ea1d",
   "metadata": {},
   "outputs": [],
   "source": []
  }
 ],
 "metadata": {
  "kernelspec": {
   "display_name": "Python 3",
   "language": "python",
   "name": "python3"
  },
  "language_info": {
   "codemirror_mode": {
    "name": "ipython",
    "version": 3
   },
   "file_extension": ".py",
   "mimetype": "text/x-python",
   "name": "python",
   "nbconvert_exporter": "python",
   "pygments_lexer": "ipython3",
   "version": "3.8.8"
  }
 },
 "nbformat": 4,
 "nbformat_minor": 5
}
